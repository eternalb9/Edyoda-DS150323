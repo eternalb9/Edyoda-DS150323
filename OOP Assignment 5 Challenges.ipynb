{
 "cells": [
  {
   "cell_type": "markdown",
   "id": "3608f0e9",
   "metadata": {},
   "source": [
    "## Challenge 1- Square numbers and return their Sum"
   ]
  },
  {
   "cell_type": "code",
   "execution_count": 5,
   "id": "5307eee2",
   "metadata": {},
   "outputs": [
    {
     "data": {
      "text/plain": [
       "35"
      ]
     },
     "execution_count": 5,
     "metadata": {},
     "output_type": "execute_result"
    }
   ],
   "source": [
    "class Point:\n",
    "    def __init__(self,x,y,z):\n",
    "        self.x=x\n",
    "        self.y=y\n",
    "        self.z=z\n",
    "    def Square_Sum(self):\n",
    "        result= self.x**2+self.y**2+self.z**2\n",
    "        return result\n",
    "\n",
    "obj=Point(1,3,5) \n",
    "obj.Square_Sum()\n",
    "    "
   ]
  },
  {
   "cell_type": "markdown",
   "id": "3fd7e97f",
   "metadata": {},
   "source": [
    "## Challenge 2- Implement a Calculator Class"
   ]
  },
  {
   "cell_type": "code",
   "execution_count": 7,
   "id": "424d3959",
   "metadata": {},
   "outputs": [
    {
     "name": "stdout",
     "output_type": "stream",
     "text": [
      "25\n",
      "15\n",
      "100\n",
      "4.0\n"
     ]
    }
   ],
   "source": [
    "class Calculator:\n",
    "    \n",
    "    \n",
    "    \n",
    "    def __init__(self,x,y):\n",
    "        self.x=x\n",
    "        self.y=y\n",
    "       \n",
    "        \n",
    "    def add(self):\n",
    "        print(self.x+self.y)\n",
    "    \n",
    "    def subtract(self):\n",
    "        print(self.x-self.y)\n",
    "    \n",
    "    def multiply(self):\n",
    "        print(self.x*self.y)\n",
    "    \n",
    "    def divide(self):\n",
    "        print(self.x/self.y)\n",
    "\n",
    "obj=Calculator(20,5)\n",
    "obj.add()\n",
    "obj.subtract()\n",
    "obj.multiply()\n",
    "obj.divide()"
   ]
  },
  {
   "cell_type": "markdown",
   "id": "9b4f293c",
   "metadata": {},
   "source": [
    "## Challenge 3: Implement the Complete Student Class"
   ]
  },
  {
   "cell_type": "code",
   "execution_count": 17,
   "id": "b42cfa97",
   "metadata": {},
   "outputs": [
    {
     "name": "stdout",
     "output_type": "stream",
     "text": [
      " Name :  Shashwat Trivedi\n",
      " Roll Number :  12345\n"
     ]
    }
   ],
   "source": [
    "class Student:\n",
    "    \n",
    "    def set_name(self, name):\n",
    "        self.__name=name\n",
    "    \n",
    "    def set_roll_no(self, roll_no):\n",
    "        self.__roll_no = roll_no\n",
    "    \n",
    "    def get_name(self):\n",
    "        return self.__name\n",
    "    \n",
    "    def get_roll_no(self):\n",
    "        return self.__roll_no\n",
    "\n",
    "student = Student()\n",
    "student.set_name(\"Shashwat Trivedi\")\n",
    "student.set_roll_no(12345)   \n",
    "\n",
    "name= student.get_name()\n",
    "roll= student.get_roll_no()\n",
    "\n",
    "print(\" Name : \",name)\n",
    "print(\" Roll Number : \",roll)\n"
   ]
  },
  {
   "cell_type": "markdown",
   "id": "3827cf6c",
   "metadata": {},
   "source": [
    "## Challenge 4: Implement a Banking Account"
   ]
  },
  {
   "cell_type": "code",
   "execution_count": 16,
   "id": "f6bf644d",
   "metadata": {},
   "outputs": [
    {
     "name": "stdout",
     "output_type": "stream",
     "text": [
      "Hello Mr. Shashwat\n",
      "Shashwat\n",
      "30000\n",
      "6\n"
     ]
    }
   ],
   "source": [
    "class Account:\n",
    "    def __init__(self, title=None, balance=0):\n",
    "        self.title = title\n",
    "        self.balance = balance\n",
    "\n",
    "class SavingsAccount(Account):\n",
    "    def __init__(self, title=None, balance=0, interestRate=0):\n",
    "        \n",
    "        super().__init__(title, balance)\n",
    "        print(\"Hello Mr.\",obj.title)\n",
    "        self.interestRate = interestRate\n",
    "        \n",
    "obj= SavingsAccount(\"Shashwat\",30000,6) \n",
    "print(obj.title)\n",
    "print(obj.balance)\n",
    "print(obj.interestRate)"
   ]
  },
  {
   "cell_type": "markdown",
   "id": "026dddc5",
   "metadata": {},
   "source": [
    "##  Challenge 5: Handling a Bank Account"
   ]
  },
  {
   "cell_type": "code",
   "execution_count": 12,
   "id": "67076908",
   "metadata": {},
   "outputs": [
    {
     "name": "stdout",
     "output_type": "stream",
     "text": [
      "Hello Mr. Shashwat\n",
      "Initial balance : 90000\n",
      "Balance after deposition : 95000\n",
      "Balance after withdrawal : 93000\n",
      "Interest Amount of current balance is  4650.0\n"
     ]
    }
   ],
   "source": [
    "class Account:\n",
    "    def __init__(self, title=None, balance=0):\n",
    "        self.title = title\n",
    "        self.balance = balance\n",
    "    \n",
    "    def withdrawal(self, amount):\n",
    "        self.balance=self.balance-amount\n",
    "        \n",
    "\n",
    "    def deposit(self, amount):\n",
    "        self.balance=self.balance+amount\n",
    "        \n",
    "    def getBalance(self):\n",
    "        return self.balance\n",
    "\n",
    "class SavingsAccount(Account):\n",
    "    def __init__(self, title=None, balance=0, interestRate=0):\n",
    "        \n",
    "        super().__init__(title, balance)\n",
    "        print(\"Hello Mr.\",obj.title)\n",
    "        self.interestRate = interestRate\n",
    "    \n",
    "    def interestAmount(self):\n",
    "        result=self.balance*self.interestRate*0.01\n",
    "        return result\n",
    "\n",
    "obj= SavingsAccount(\"Shashwat\",90000,5) #Initialization statement giving title, balance and rate\n",
    "print(\"Initial balance :\",obj.getBalance())\n",
    "obj.deposit(5000) #Deposited 5000\n",
    "print(\"Balance after deposition :\",obj.getBalance())\n",
    "obj.withdrawal(2000) #withdrawn 2000\n",
    "print(\"Balance after withdrawal :\",obj.getBalance())\n",
    "print(\"Interest Amount of current balance is \",obj.interestAmount())"
   ]
  },
  {
   "cell_type": "code",
   "execution_count": null,
   "id": "4bb1fb5f",
   "metadata": {},
   "outputs": [],
   "source": []
  }
 ],
 "metadata": {
  "kernelspec": {
   "display_name": "Python 3 (ipykernel)",
   "language": "python",
   "name": "python3"
  },
  "language_info": {
   "codemirror_mode": {
    "name": "ipython",
    "version": 3
   },
   "file_extension": ".py",
   "mimetype": "text/x-python",
   "name": "python",
   "nbconvert_exporter": "python",
   "pygments_lexer": "ipython3",
   "version": "3.10.9"
  }
 },
 "nbformat": 4,
 "nbformat_minor": 5
}
