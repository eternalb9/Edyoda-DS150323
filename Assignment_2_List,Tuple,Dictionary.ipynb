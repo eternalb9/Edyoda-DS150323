{
 "cells": [
  {
   "cell_type": "code",
   "execution_count": 5,
   "id": "f6b73ced",
   "metadata": {},
   "outputs": [
    {
     "name": "stdout",
     "output_type": "stream",
     "text": [
      "Your mini dictionary is \n",
      " {'a': 97, 'b': 98, 'c': 99, 'd': 100, 'e': 101, 'f': 102, 'g': 103, 'h': 104, 'i': 105, 'j': 106, 'k': 107, 'l': 108, 'm': 109, 'n': 110, 'o': 111, 'p': 112, 'q': 113, 'r': 114, 's': 115, 't': 116, 'u': 117, 'v': 118, 'w': 119, 'x': 120, 'y': 121, 'z': 122}\n"
     ]
    }
   ],
   "source": [
    "#1.Write a program to make a dictionary with alphabets and theri ascii values.\n",
    "alphabet={}\n",
    "for i in range(97,123):\n",
    "    alphabet[chr(i)]=i\n",
    "print(\"Your mini dictionary is \\n\", alphabet)    "
   ]
  },
  {
   "cell_type": "code",
   "execution_count": 15,
   "id": "770cb8a5",
   "metadata": {},
   "outputs": [
    {
     "name": "stdout",
     "output_type": "stream",
     "text": [
      "The orginial list is :  [(2, 5), (1, 2), (4, 4), (2, 3), (2, 1)]\n",
      "The sorted list is :  [(2, 1), (1, 2), (2, 3), (4, 4), (2, 5)]\n"
     ]
    }
   ],
   "source": [
    "#2.Write a Python program to get a list, sorted in increasing order by the last element in each tuple from \n",
    "#a given list of non-empty tuples\n",
    "\n",
    "\n",
    "\n",
    "#Sample List : [(2, 5), (1, 2), (4, 4), (2, 3), (2, 1)]\n",
    "\n",
    "#Expected Result : [(2, 1), (1, 2), (2, 3), (4, 4), (2, 5)]\n",
    "\n",
    "lst=[(2, 5), (1, 2), (4, 4), (2, 3), (2, 1)]\n",
    "\n",
    " \n",
    "\n",
    "print(\"The orginial list is : \", lst)\n",
    "print(\"The sorted list is : \",sorted(lst, key=last))"
   ]
  },
  {
   "cell_type": "code",
   "execution_count": null,
   "id": "49351740",
   "metadata": {},
   "outputs": [],
   "source": []
  }
 ],
 "metadata": {
  "kernelspec": {
   "display_name": "Python 3 (ipykernel)",
   "language": "python",
   "name": "python3"
  },
  "language_info": {
   "codemirror_mode": {
    "name": "ipython",
    "version": 3
   },
   "file_extension": ".py",
   "mimetype": "text/x-python",
   "name": "python",
   "nbconvert_exporter": "python",
   "pygments_lexer": "ipython3",
   "version": "3.10.9"
  }
 },
 "nbformat": 4,
 "nbformat_minor": 5
}
