{
 "cells": [
  {
   "cell_type": "code",
   "execution_count": 6,
   "id": "ecda2a40",
   "metadata": {},
   "outputs": [
    {
     "name": "stdout",
     "output_type": "stream",
     "text": [
      "0\n",
      "1\n",
      "1\n",
      "2\n",
      "3\n",
      "5\n",
      "8\n",
      "13\n",
      "21\n",
      "34\n"
     ]
    }
   ],
   "source": [
    "#Write a program to print fibonacci series between 0 to 50\n",
    "j,k=0,1\n",
    "for i in range(1,50):\n",
    "    print(j)\n",
    "    add=j+k\n",
    "    j=k\n",
    "    k=add\n",
    "    if j>50:\n",
    "        break\n",
    "\n",
    "       \n",
    "       \n",
    "     \n"
   ]
  },
  {
   "cell_type": "code",
   "execution_count": null,
   "id": "74d1f82c",
   "metadata": {},
   "outputs": [],
   "source": [
    "#Write a program to print the reverse of a string\n",
    "x=str(input(\"Enter a string \"))\n",
    "y=x[::-1]"
   ]
  },
  {
   "cell_type": "code",
   "execution_count": 8,
   "id": "dcbd49bd",
   "metadata": {},
   "outputs": [
    {
     "name": "stdout",
     "output_type": "stream",
     "text": [
      "No of even numbers is 5\n",
      "No of odd numbers is 5\n"
     ]
    }
   ],
   "source": [
    "#Write a Python program to count the number of even and odd numbers from a series of numbers.\n",
    "even_count,odd_count=0,0\n",
    "x=(1,2,3,4,5,6,7,8,9,0)\n",
    "for i in x:\n",
    "    if i%2==0:\n",
    "        even_count+=1\n",
    "    else:\n",
    "        odd_count+=1\n",
    "print(\"No of even numbers is\",even_count)\n",
    "print(\"No of odd numbers is\",odd_count)"
   ]
  },
  {
   "cell_type": "code",
   "execution_count": null,
   "id": "8d93f4af",
   "metadata": {},
   "outputs": [],
   "source": []
  },
  {
   "cell_type": "code",
   "execution_count": null,
   "id": "9516f541",
   "metadata": {},
   "outputs": [],
   "source": []
  }
 ],
 "metadata": {
  "kernelspec": {
   "display_name": "Python 3 (ipykernel)",
   "language": "python",
   "name": "python3"
  },
  "language_info": {
   "codemirror_mode": {
    "name": "ipython",
    "version": 3
   },
   "file_extension": ".py",
   "mimetype": "text/x-python",
   "name": "python",
   "nbconvert_exporter": "python",
   "pygments_lexer": "ipython3",
   "version": "3.10.9"
  }
 },
 "nbformat": 4,
 "nbformat_minor": 5
}
